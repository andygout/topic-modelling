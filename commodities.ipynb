{
 "cells": [
  {
   "cell_type": "code",
   "execution_count": 1,
   "id": "5dbe15cc",
   "metadata": {},
   "outputs": [
    {
     "name": "stdout",
     "output_type": "stream",
     "text": [
      "Requirement already satisfied: spacy in /Users/andy.gout/opt/anaconda3/lib/python3.9/site-packages (3.3.0)\n",
      "Requirement already satisfied: spacy-loggers<2.0.0,>=1.0.0 in /Users/andy.gout/opt/anaconda3/lib/python3.9/site-packages (from spacy) (1.0.2)\n",
      "Requirement already satisfied: spacy-legacy<3.1.0,>=3.0.9 in /Users/andy.gout/opt/anaconda3/lib/python3.9/site-packages (from spacy) (3.0.9)\n",
      "Requirement already satisfied: pathy>=0.3.5 in /Users/andy.gout/opt/anaconda3/lib/python3.9/site-packages (from spacy) (0.6.1)\n",
      "Requirement already satisfied: typer<0.5.0,>=0.3.0 in /Users/andy.gout/opt/anaconda3/lib/python3.9/site-packages (from spacy) (0.4.1)\n",
      "Requirement already satisfied: srsly<3.0.0,>=2.4.3 in /Users/andy.gout/opt/anaconda3/lib/python3.9/site-packages (from spacy) (2.4.3)\n",
      "Requirement already satisfied: pydantic!=1.8,!=1.8.1,<1.9.0,>=1.7.4 in /Users/andy.gout/opt/anaconda3/lib/python3.9/site-packages (from spacy) (1.8.2)\n",
      "Requirement already satisfied: tqdm<5.0.0,>=4.38.0 in /Users/andy.gout/opt/anaconda3/lib/python3.9/site-packages (from spacy) (4.62.3)\n",
      "Requirement already satisfied: catalogue<2.1.0,>=2.0.6 in /Users/andy.gout/opt/anaconda3/lib/python3.9/site-packages (from spacy) (2.0.7)\n",
      "Requirement already satisfied: thinc<8.1.0,>=8.0.14 in /Users/andy.gout/opt/anaconda3/lib/python3.9/site-packages (from spacy) (8.0.15)\n",
      "Requirement already satisfied: jinja2 in /Users/andy.gout/opt/anaconda3/lib/python3.9/site-packages (from spacy) (2.11.3)\n",
      "Requirement already satisfied: wasabi<1.1.0,>=0.9.1 in /Users/andy.gout/opt/anaconda3/lib/python3.9/site-packages (from spacy) (0.9.1)\n",
      "Requirement already satisfied: murmurhash<1.1.0,>=0.28.0 in /Users/andy.gout/opt/anaconda3/lib/python3.9/site-packages (from spacy) (1.0.7)\n",
      "Requirement already satisfied: blis<0.8.0,>=0.4.0 in /Users/andy.gout/opt/anaconda3/lib/python3.9/site-packages (from spacy) (0.7.7)\n",
      "Requirement already satisfied: requests<3.0.0,>=2.13.0 in /Users/andy.gout/opt/anaconda3/lib/python3.9/site-packages (from spacy) (2.26.0)\n",
      "Requirement already satisfied: cymem<2.1.0,>=2.0.2 in /Users/andy.gout/opt/anaconda3/lib/python3.9/site-packages (from spacy) (2.0.6)\n",
      "Requirement already satisfied: numpy>=1.15.0 in /Users/andy.gout/opt/anaconda3/lib/python3.9/site-packages (from spacy) (1.20.3)\n",
      "Requirement already satisfied: langcodes<4.0.0,>=3.2.0 in /Users/andy.gout/opt/anaconda3/lib/python3.9/site-packages (from spacy) (3.3.0)\n",
      "Requirement already satisfied: preshed<3.1.0,>=3.0.2 in /Users/andy.gout/opt/anaconda3/lib/python3.9/site-packages (from spacy) (3.0.6)\n",
      "Requirement already satisfied: setuptools in /Users/andy.gout/opt/anaconda3/lib/python3.9/site-packages (from spacy) (58.0.4)\n",
      "Requirement already satisfied: packaging>=20.0 in /Users/andy.gout/opt/anaconda3/lib/python3.9/site-packages (from spacy) (21.0)\n",
      "Requirement already satisfied: pyparsing>=2.0.2 in /Users/andy.gout/opt/anaconda3/lib/python3.9/site-packages (from packaging>=20.0->spacy) (3.0.4)\n",
      "Requirement already satisfied: smart-open<6.0.0,>=5.0.0 in /Users/andy.gout/opt/anaconda3/lib/python3.9/site-packages (from pathy>=0.3.5->spacy) (5.2.1)\n",
      "Requirement already satisfied: typing-extensions>=3.7.4.3 in /Users/andy.gout/opt/anaconda3/lib/python3.9/site-packages (from pydantic!=1.8,!=1.8.1,<1.9.0,>=1.7.4->spacy) (3.10.0.2)\n",
      "Requirement already satisfied: charset-normalizer~=2.0.0 in /Users/andy.gout/opt/anaconda3/lib/python3.9/site-packages (from requests<3.0.0,>=2.13.0->spacy) (2.0.4)\n",
      "Requirement already satisfied: urllib3<1.27,>=1.21.1 in /Users/andy.gout/opt/anaconda3/lib/python3.9/site-packages (from requests<3.0.0,>=2.13.0->spacy) (1.26.7)\n",
      "Requirement already satisfied: certifi>=2017.4.17 in /Users/andy.gout/opt/anaconda3/lib/python3.9/site-packages (from requests<3.0.0,>=2.13.0->spacy) (2021.10.8)\n",
      "Requirement already satisfied: idna<4,>=2.5 in /Users/andy.gout/opt/anaconda3/lib/python3.9/site-packages (from requests<3.0.0,>=2.13.0->spacy) (3.2)\n",
      "Requirement already satisfied: click<9.0.0,>=7.1.1 in /Users/andy.gout/opt/anaconda3/lib/python3.9/site-packages (from typer<0.5.0,>=0.3.0->spacy) (8.0.3)\n",
      "Requirement already satisfied: MarkupSafe>=0.23 in /Users/andy.gout/opt/anaconda3/lib/python3.9/site-packages (from jinja2->spacy) (1.1.1)\n",
      "Note: you may need to restart the kernel to use updated packages.\n"
     ]
    }
   ],
   "source": [
    "pip install -U spacy"
   ]
  },
  {
   "cell_type": "code",
   "execution_count": 2,
   "id": "6bc6417a",
   "metadata": {},
   "outputs": [
    {
     "name": "stdout",
     "output_type": "stream",
     "text": [
      "Requirement already satisfied: Language in /Users/andy.gout/opt/anaconda3/lib/python3.9/site-packages (0.6)\n",
      "Note: you may need to restart the kernel to use updated packages.\n"
     ]
    }
   ],
   "source": [
    "pip install Language"
   ]
  },
  {
   "cell_type": "code",
   "execution_count": 3,
   "id": "2e589e0f",
   "metadata": {},
   "outputs": [
    {
     "name": "stdout",
     "output_type": "stream",
     "text": [
      "Requirement already satisfied: decorator in /Users/andy.gout/opt/anaconda3/lib/python3.9/site-packages (5.1.0)\n",
      "Note: you may need to restart the kernel to use updated packages.\n"
     ]
    }
   ],
   "source": [
    "pip install decorator"
   ]
  },
  {
   "cell_type": "code",
   "execution_count": 5,
   "id": "86206b6a",
   "metadata": {},
   "outputs": [],
   "source": [
    "import spacy\n",
    "from spacy.lang.en import English\n",
    "from spacy.pipeline import EntityRuler\n",
    "from spacy.language import Language\n",
    "import json"
   ]
  },
  {
   "cell_type": "code",
   "execution_count": 6,
   "id": "1e37f54a",
   "metadata": {},
   "outputs": [],
   "source": [
    "def load_data(file):\n",
    "    with open(file, \"r\", encoding=\"utf-8\") as f:\n",
    "        data = json.load(f)\n",
    "    return (data)"
   ]
  },
  {
   "cell_type": "code",
   "execution_count": 7,
   "id": "3dbbc571",
   "metadata": {},
   "outputs": [],
   "source": [
    "def save_data(file, data):\n",
    "    with open(file, \"w\", encoding=\"utf-8\") as f:\n",
    "        json.dump(data, f, indent=4)"
   ]
  },
  {
   "cell_type": "code",
   "execution_count": 37,
   "id": "eef043ca",
   "metadata": {},
   "outputs": [
    {
     "name": "stdout",
     "output_type": "stream",
     "text": [
      "['aluminium', 'amber', 'brent crude', 'cattle', 'cobalt', 'cocoa', 'coffee', 'copper', 'corn', 'cotton', 'crude oil', 'ethanol', 'gold', 'grain', 'heating oil', 'hogs', 'lead', 'lithium', 'milk', 'molydbenum', 'natural gas', 'nickel', 'oats', 'palladium', 'palm oil', 'platinum', 'propane', 'rapeseed', 'rice', 'rubber', 'silver', 'soybeans', 'sugar', 'tin', 'wheat', 'wool', 'zinc']\n"
     ]
    }
   ],
   "source": [
    "commodities = load_data(\"data/commodities/commodities.json\")\n",
    "print(commodities)"
   ]
  },
  {
   "cell_type": "code",
   "execution_count": 9,
   "id": "438e6110",
   "metadata": {},
   "outputs": [],
   "source": [
    "def create_training_data(file, type):\n",
    "    data = load_data(file)\n",
    "    patterns = []\n",
    "    for item in data:\n",
    "        pattern = {\n",
    "            \"label\": type,\n",
    "            \"pattern\": item\n",
    "        }\n",
    "        patterns.append(pattern)\n",
    "    return (patterns)"
   ]
  },
  {
   "cell_type": "code",
   "execution_count": 10,
   "id": "9d78648d",
   "metadata": {},
   "outputs": [
    {
     "ename": "ValueError",
     "evalue": "[E004] Can't set up pipeline component: a factory for 'entity_ruler' already exists. Existing factory: <function make_entity_ruler at 0x7fc031177b80>. New factory: <function entity_ruler at 0x7fc0316f7790>",
     "output_type": "error",
     "traceback": [
      "\u001b[0;31m---------------------------------------------------------------------------\u001b[0m",
      "\u001b[0;31mValueError\u001b[0m                                Traceback (most recent call last)",
      "\u001b[0;32m/var/folders/48/fdr1pr9x60ddkry4ld81902r0000gp/T/ipykernel_11775/1235212505.py\u001b[0m in \u001b[0;36m<module>\u001b[0;34m\u001b[0m\n\u001b[1;32m      1\u001b[0m \u001b[0;34m@\u001b[0m\u001b[0mLanguage\u001b[0m\u001b[0;34m.\u001b[0m\u001b[0mfactory\u001b[0m\u001b[0;34m(\u001b[0m\u001b[0;34m\"entity_ruler\"\u001b[0m\u001b[0;34m)\u001b[0m\u001b[0;34m\u001b[0m\u001b[0;34m\u001b[0m\u001b[0m\n\u001b[0;32m----> 2\u001b[0;31m \u001b[0;32mdef\u001b[0m \u001b[0mentity_ruler\u001b[0m\u001b[0;34m(\u001b[0m\u001b[0mnlp\u001b[0m\u001b[0;34m,\u001b[0m \u001b[0mname\u001b[0m\u001b[0;34m)\u001b[0m\u001b[0;34m:\u001b[0m\u001b[0;34m\u001b[0m\u001b[0;34m\u001b[0m\u001b[0m\n\u001b[0m\u001b[1;32m      3\u001b[0m     \u001b[0mruler\u001b[0m \u001b[0;34m=\u001b[0m \u001b[0mEntityRuler\u001b[0m\u001b[0;34m(\u001b[0m\u001b[0mnlp\u001b[0m\u001b[0;34m)\u001b[0m\u001b[0;34m\u001b[0m\u001b[0;34m\u001b[0m\u001b[0m\n\u001b[1;32m      4\u001b[0m     \u001b[0;32mreturn\u001b[0m \u001b[0mruler\u001b[0m\u001b[0;34m\u001b[0m\u001b[0;34m\u001b[0m\u001b[0m\n",
      "\u001b[0;32m~/opt/anaconda3/lib/python3.9/site-packages/spacy/language.py\u001b[0m in \u001b[0;36madd_factory\u001b[0;34m(factory_func)\u001b[0m\n\u001b[1;32m    484\u001b[0m                         \u001b[0mname\u001b[0m\u001b[0;34m=\u001b[0m\u001b[0mname\u001b[0m\u001b[0;34m,\u001b[0m \u001b[0mfunc\u001b[0m\u001b[0;34m=\u001b[0m\u001b[0mexisting_func\u001b[0m\u001b[0;34m,\u001b[0m \u001b[0mnew_func\u001b[0m\u001b[0;34m=\u001b[0m\u001b[0mfactory_func\u001b[0m\u001b[0;34m\u001b[0m\u001b[0;34m\u001b[0m\u001b[0m\n\u001b[1;32m    485\u001b[0m                     )\n\u001b[0;32m--> 486\u001b[0;31m                     \u001b[0;32mraise\u001b[0m \u001b[0mValueError\u001b[0m\u001b[0;34m(\u001b[0m\u001b[0merr\u001b[0m\u001b[0;34m)\u001b[0m\u001b[0;34m\u001b[0m\u001b[0;34m\u001b[0m\u001b[0m\n\u001b[0m\u001b[1;32m    487\u001b[0m \u001b[0;34m\u001b[0m\u001b[0m\n\u001b[1;32m    488\u001b[0m             \u001b[0marg_names\u001b[0m \u001b[0;34m=\u001b[0m \u001b[0mutil\u001b[0m\u001b[0;34m.\u001b[0m\u001b[0mget_arg_names\u001b[0m\u001b[0;34m(\u001b[0m\u001b[0mfactory_func\u001b[0m\u001b[0;34m)\u001b[0m\u001b[0;34m\u001b[0m\u001b[0;34m\u001b[0m\u001b[0m\n",
      "\u001b[0;31mValueError\u001b[0m: [E004] Can't set up pipeline component: a factory for 'entity_ruler' already exists. Existing factory: <function make_entity_ruler at 0x7fc031177b80>. New factory: <function entity_ruler at 0x7fc0316f7790>"
     ]
    }
   ],
   "source": [
    "@Language.factory(\"entity_ruler\")\n",
    "def entity_ruler(nlp, name):\n",
    "    ruler = EntityRuler(nlp)\n",
    "    return ruler"
   ]
  },
  {
   "cell_type": "code",
   "execution_count": 11,
   "id": "c433a373",
   "metadata": {},
   "outputs": [],
   "source": [
    "def generate_rules(patterns):\n",
    "    nlp = English()\n",
    "    ruler = nlp.add_pipe(\"entity_ruler\")\n",
    "    ruler.add_patterns(patterns)\n",
    "    nlp.to_disk(\"commodities_ner\")"
   ]
  },
  {
   "cell_type": "code",
   "execution_count": 28,
   "id": "aca32372",
   "metadata": {
    "scrolled": true
   },
   "outputs": [
    {
     "name": "stdout",
     "output_type": "stream",
     "text": [
      "[{'label': 'COMMODITY', 'pattern': 'aluminium'}, {'label': 'COMMODITY', 'pattern': 'amber'}, {'label': 'COMMODITY', 'pattern': 'brent crude'}, {'label': 'COMMODITY', 'pattern': 'cattle'}, {'label': 'COMMODITY', 'pattern': 'cobalt'}, {'label': 'COMMODITY', 'pattern': 'cocoa'}, {'label': 'COMMODITY', 'pattern': 'coffee'}, {'label': 'COMMODITY', 'pattern': 'copper'}, {'label': 'COMMODITY', 'pattern': 'corn'}, {'label': 'COMMODITY', 'pattern': 'cotton'}, {'label': 'COMMODITY', 'pattern': 'crude oil'}, {'label': 'COMMODITY', 'pattern': 'ethanol'}, {'label': 'COMMODITY', 'pattern': 'gold'}, {'label': 'COMMODITY', 'pattern': 'grain'}, {'label': 'COMMODITY', 'pattern': 'heating oil'}, {'label': 'COMMODITY', 'pattern': 'hogs'}, {'label': 'COMMODITY', 'pattern': 'lead'}, {'label': 'COMMODITY', 'pattern': 'lithium'}, {'label': 'COMMODITY', 'pattern': 'milk'}, {'label': 'COMMODITY', 'pattern': 'molydbenum'}, {'label': 'COMMODITY', 'pattern': 'natural gas'}, {'label': 'COMMODITY', 'pattern': 'nickel'}, {'label': 'COMMODITY', 'pattern': 'oats'}, {'label': 'COMMODITY', 'pattern': 'palladium'}, {'label': 'COMMODITY', 'pattern': 'palm oil'}, {'label': 'COMMODITY', 'pattern': 'platinum'}, {'label': 'COMMODITY', 'pattern': 'propane'}, {'label': 'COMMODITY', 'pattern': 'rapeseed'}, {'label': 'COMMODITY', 'pattern': 'rice'}, {'label': 'COMMODITY', 'pattern': 'rubber'}, {'label': 'COMMODITY', 'pattern': 'silver'}, {'label': 'COMMODITY', 'pattern': 'soybeans'}, {'label': 'COMMODITY', 'pattern': 'sugar'}, {'label': 'COMMODITY', 'pattern': 'tin'}, {'label': 'COMMODITY', 'pattern': 'wheat'}, {'label': 'COMMODITY', 'pattern': 'wool'}, {'label': 'COMMODITY', 'pattern': 'zinc'}]\n"
     ]
    }
   ],
   "source": [
    "patterns = create_training_data(\"data/commodities/commodities.json\", \"COMMODITY\")\n",
    "print(patterns)"
   ]
  },
  {
   "cell_type": "code",
   "execution_count": 29,
   "id": "d571036f",
   "metadata": {},
   "outputs": [],
   "source": [
    "generate_rules(patterns)"
   ]
  },
  {
   "cell_type": "code",
   "execution_count": 30,
   "id": "bcc9f266",
   "metadata": {},
   "outputs": [],
   "source": [
    "nlp = spacy.load(\"commodities_ner\")"
   ]
  },
  {
   "cell_type": "code",
   "execution_count": 31,
   "id": "f6a5c9b5",
   "metadata": {},
   "outputs": [],
   "source": [
    "def test_model(model, text):\n",
    "    doc = nlp(text)\n",
    "    results = []\n",
    "    for ent in doc.ents:\n",
    "        results.append(ent.text)\n",
    "    return results"
   ]
  },
  {
   "cell_type": "code",
   "execution_count": 35,
   "id": "d16be5d8",
   "metadata": {},
   "outputs": [],
   "source": [
    "ie_data = {}\n",
    "\n",
    "with open(\"data/commodities/ft-commodities-articles.txt\") as f:\n",
    "    text = f.read()\n",
    "    articles = text.split(\"\\n\")\n",
    "    for article in articles:\n",
    "        articleUuid, articleBodyText = article.split(\"|||\")\n",
    "        segments = articleBodyText.split(\"||\")\n",
    "        hits = []\n",
    "        for segment in segments:\n",
    "            results = test_model(nlp, segment)\n",
    "            for result in results:\n",
    "                hits.append(result)\n",
    "        ie_data[articleUuid] = hits"
   ]
  },
  {
   "cell_type": "code",
   "execution_count": 36,
   "id": "67dd6ff6",
   "metadata": {},
   "outputs": [
    {
     "name": "stdout",
     "output_type": "stream",
     "text": [
      "{'74114a6c-8f28-11e7-9084-d0c17942ba93': ['milk'], 'f116e1e8-c58b-11da-b675-0000779e2340': ['gold', 'copper', 'gold'], '1514a6be-a578-11e3-8070-00144feab7de': ['sugar', 'lead', 'lead'], 'e4ab221a-77c6-11e9-bbad-7c18c0ea0201': ['gold', 'gold'], '9db12abc-3b09-11e3-87fa-00144feab7de': ['lead'], 'b022158e-a635-11e3-8a2a-00144feab7de': ['lead'], '71eb184e-da6a-11dc-9bb9-0000779fd2ac': ['lead', 'copper'], 'a3e2f875-5080-408b-ba56-0a7428bab2b1': ['gold', 'gold', 'silver', 'silver', 'coffee'], 'eb8be120-de5f-11e7-a8a4-0a1e63a52f9c': ['silver'], '67c75706-da8d-11dc-9bb9-0000779fd2ac': ['lead', 'cotton', 'cotton', 'wool', 'wool', 'cotton', 'wool', 'wool', 'wool', 'cotton', 'corn', 'wool', 'cotton', 'cotton', 'wool'], 'c97151b4-eb63-11dc-9493-0000779fd2ac': ['lead'], '9e8bdf98-7032-11e6-9ac1-1055824ca907': ['aluminium', 'lead', 'aluminium', 'aluminium', 'aluminium', 'aluminium', 'aluminium', 'aluminium', 'aluminium', 'aluminium', 'aluminium', 'aluminium', 'aluminium', 'aluminium', 'aluminium', 'aluminium', 'aluminium', 'aluminium', 'aluminium', 'aluminium', 'aluminium', 'aluminium', 'aluminium', 'aluminium', 'lead', 'aluminium', 'aluminium', 'aluminium', 'aluminium', 'aluminium', 'aluminium'], 'e29837a6-dee3-11e7-a8a4-0a1e63a52f9c': ['natural gas'], 'e53887b6-e420-11d9-a754-00000e2511c8': ['lead'], '197ac342-ee21-11dc-a5c1-0000779fd2ac': ['lead'], '232dcab8-f44a-11dc-aaad-0000779fd2ac': ['lead'], 'ec2a8982-db4a-11e7-a039-c64b1c09b482': ['lead'], '2462740a-ebd1-11dc-9493-0000779fd2ac': ['lead'], '5c4027d4-741d-11e8-aa31-31da4279a601': [], '0a9c927c-f387-11dc-b6bc-0000779fd2ac': ['lead'], '3fdbed52-a7d6-11de-b0ee-00144feabdc0': ['coffee'], 'fd27189c-9a47-11e3-a407-00144feab7de': ['corn', 'corn', 'wheat', 'corn', 'corn', 'corn', 'corn', 'grain', 'grain', 'wheat', 'cotton', 'corn', 'corn'], '3dc93e14-0f07-11da-8b31-00000e2511c8': ['copper', 'copper'], '7e1ae698-a909-11e3-bf0c-00144feab7de': ['lead'], 'a25b6ccc-81e4-11d9-9e19-00000e2511c8': ['lead', 'lead'], '8b218c80-f1fd-11dc-9b45-0000779fd2ac': [], '98b3783c-4871-11e4-ad19-00144feab7de': ['silver'], '8f75bac2-eded-11e6-930f-061b01e23655': ['lead'], '7704657e-f063-11dc-ba7c-0000779fd2ac': [], '542027be-edde-11dc-a5c1-0000779fd2ac': ['wheat'], '1fcaf8b0-277e-11e8-b27e-cc62a39d57a0': ['lead'], '5ac15010-e0f0-11e7-a0d4-0944c5f49e46': ['coffee', 'sugar', 'grain', 'milk'], '77c69f38-9656-11dd-9dce-000077b07658': ['lead'], '0cae6bd6-be9c-11e7-9836-b25f8adaa111': ['corn', 'corn', 'corn', 'corn'], '10f8ad1e-cab1-11da-9015-0000779e2340': ['coffee'], 'afe4662c-e650-11dc-8398-0000779fd2ac': ['gold', 'gold'], '66a7ef96-6902-11ea-800d-da70cff6e4d3': [], '694f4a32-8fe2-11e3-aee9-00144feab7de': ['lead'], '74d8e4d8-e491-11dc-a495-0000779fd2ac': ['milk'], '3bdf4e92-d806-11e7-a039-c64b1c09b482': ['lead', 'lead'], '454c1ed0-060b-11ea-9afa-d9e2401fa7ca': ['lead'], '7bf948f0-eb1e-11dc-a5f4-0000779fd2ac': ['lead'], '2517c5fc-d9cf-11e7-9504-59efdb70e12f': ['lead'], '3a2e9899-2b64-429f-9fa8-878123f3cb84': ['lead'], '65972898-c520-11e7-b2bb-322b2cb39656': ['lead'], '262e124a-db4e-11e7-a039-c64b1c09b482': [], 'b8a4cbb8-e0b9-11dc-b0d7-0000779fd2ac': ['lead'], '5bc1580d-911e-4fe3-b5b5-d8040f060fe1': ['lead', 'silver'], '47ac5660-daa6-11dc-9bb9-0000779fd2ac': ['aluminium'], '65bfdb36-2884-11e8-b27e-cc62a39d57a0': ['aluminium'], '57597cb8-a9a3-11da-9f4e-0000779e2340': ['lead'], 'ac19d940-6cfb-3bc1-8d79-b6c5b001383c': ['cattle'], 'cbf8f464-c31c-11e7-b2bb-322b2cb39656': ['gold'], 'd27132a6-db37-11e7-a039-c64b1c09b482': ['lead'], '33afe196-6028-11e8-ab47-8fd33f423c09': ['gold'], '9e4b194e-7f9f-11e3-b6a7-00144feabdc0': ['lithium', 'aluminium'], '375dc2a0-d712-11e0-bc73-00144feabdc0': ['lead', 'lead'], '84ebbe74-f6ff-11e6-bd4e-68d53499ed71': ['silver'], '17df8456-c2ca-11e0-8cc7-00144feabdc0': ['gold'], 'dd2a431c-4966-11dd-9a5f-000077b07658': ['rice'], '2a22bc8a-869a-11e0-9d41-00144feabdc0': ['crude oil', 'crude oil', 'lead'], '195fb3d0-7bd4-11d9-9af4-00000e2511c8': ['lead'], '1f980c74-20f8-3a25-b076-9554c99ba017': ['lead'], '7a3822e6-6804-11e5-a155-02b6f8af6a62': ['lead'], 'cdfa8744-f7c0-11d9-9f64-00000e2511c8': ['lead'], '705c10dc-bb01-11e7-8c12-5661783e5589': ['lead'], 'd95a7ba0-c328-11e0-9109-00144feabdc0': ['copper', 'wheat'], '0fc4c32c-da19-11e7-a039-c64b1c09b482': [], 'b267bd42-33ba-4c9b-98df-b936b7d7590a': ['amber'], 'e6ce8a78-f069-11dc-ba7c-0000779fd2ac': ['lead', 'lead', 'lead'], '2e758124-dff2-11e7-a8a4-0a1e63a52f9c': ['lead', 'lithium', 'lithium', 'cobalt', 'cobalt', 'lithium'], '813828da-9fe1-11e3-9c65-00144feab7de': ['lead'], 'd08dbfb8-c3e5-11e7-a1d2-6786f39ef675': ['lead'], 'd76e48bf-069f-35a9-b2e4-a1fc2d86e49e': ['lead', 'lead', 'gold', 'lead'], 'd3f3d158-c2df-11e7-b2bb-322b2cb39656': ['rubber'], 'd399febc-58fd-11e3-a7cb-00144feabdc0': ['gold'], '3ee205de-6c5a-11e2-b774-00144feab49a': ['lead'], 'b2943cf0-e57b-11e7-8b99-0191e45377ec': ['gold', 'gold', 'gold', 'gold', 'gold', 'gold', 'gold'], '4e8a2ac5-bfa6-4da6-81b5-44d8238644a2': ['lead'], '4e93f326-f8d9-11e9-a354-36acbbb0d9b6': [], '415a571c-6719-11e7-9a66-93fb352ba1fe': ['gold'], 'b80e4c16-7513-11d9-9608-00000e2511c8': ['lead', 'heating oil'], 'f192fad8-f19b-11dc-9b45-0000779fd2ac': [], '8f2af17e-cad5-4fc6-9ea7-68e5402dda5d': ['cattle', 'gold'], '355f8942-e670-11e7-97e2-916d4fbac0da': ['sugar'], 'd120df28-cf24-11de-8a4b-00144feabdc0': ['gold', 'gold'], 'b80c88aa-5f7c-11da-a628-0000779e2340': ['lead', 'lead'], '56b1482a-c4a0-11e7-b2bb-322b2cb39656': ['lead'], '4572ce7e-c39e-11e7-a1d2-6786f39ef675': ['sugar', 'sugar', 'sugar', 'sugar', 'sugar'], 'fe615e40-e8ad-11dc-913a-0000779fd2ac': ['lead'], '0faadca2-dbed-11e7-a039-c64b1c09b482': ['aluminium'], '6a6c0362-e675-3b42-a006-c261fcf2ed67': ['lead'], '4aca5f1e-cfed-11e0-a1de-00144feabdc0': ['lead'], 'eeb0c116-fa96-11dc-aa46-000077b07658': ['sugar', 'grain'], 'e36f7f52-0268-11dd-9388-000077b07658': [], '1e0d5d00-c8d1-11e0-a2c8-00144feabdc0': ['lead'], '731e589a-72ca-11e7-aca6-c6bd07df1a3c': [], 'aa4d9290-f79a-11d8-afe6-00000e2511c8': ['gold'], 'a6f6e451-47a7-4c1e-8e59-d0714ad636b4': ['grain', 'wheat', 'oats', 'oats', 'cattle', 'wheat', 'grain', 'grain', 'wheat'], '00b4ee74-c2f0-11e7-b2bb-322b2cb39656': []}\n"
     ]
    }
   ],
   "source": [
    "print(ie_data)"
   ]
  },
  {
   "cell_type": "code",
   "execution_count": 34,
   "id": "3e1cd672",
   "metadata": {},
   "outputs": [],
   "source": [
    "save_data(\"data/commodities/commodities_data.json\", ie_data)"
   ]
  }
 ],
 "metadata": {
  "kernelspec": {
   "display_name": "Python 3 (ipykernel)",
   "language": "python",
   "name": "python3"
  },
  "language_info": {
   "codemirror_mode": {
    "name": "ipython",
    "version": 3
   },
   "file_extension": ".py",
   "mimetype": "text/x-python",
   "name": "python",
   "nbconvert_exporter": "python",
   "pygments_lexer": "ipython3",
   "version": "3.9.7"
  }
 },
 "nbformat": 4,
 "nbformat_minor": 5
}
